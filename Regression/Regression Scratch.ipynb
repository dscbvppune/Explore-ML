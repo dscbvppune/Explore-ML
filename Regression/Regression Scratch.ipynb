{
 "cells": [
  {
   "cell_type": "code",
   "execution_count": 2,
   "metadata": {},
   "outputs": [],
   "source": [
    "from statistics import mean\n",
    "import pandas as pd\n",
    "import numpy as np\n",
    "import math\n",
    "import random\n",
    "import matplotlib.style\n",
    "import matplotlib.pyplot as plt"
   ]
  },
  {
   "cell_type": "code",
   "execution_count": 3,
   "metadata": {},
   "outputs": [],
   "source": [
    "#xs = np.array([1,2,3,4,5], dtype = np.float64)\n",
    "#ys = np.array([5,4,6,6,7], dtype = np.float64)\n",
    "def data_create(p, var, step = 2, corr = False ):\n",
    "    val = 1\n",
    "    ys = []\n",
    "    for i in range(p):\n",
    "        y = val + random.randrange(-var,var)\n",
    "        ys.append(y)\n",
    "        if corr and corr == 'pos':\n",
    "            val+=step\n",
    "        elif corr and corr == 'neg':\n",
    "            val-=step\n",
    "    xs = [i for i in range(len(ys))]    \n",
    "    return np.array(xs, dtype = np.float64), np.array(ys, dtype=np.float64)\n",
    "    "
   ]
  },
  {
   "cell_type": "code",
   "execution_count": 4,
   "metadata": {},
   "outputs": [],
   "source": [
    "def best_slope_intercept(xs, ys):\n",
    "    m = ((mean(xs) * mean(ys)) - mean(xs*ys))/((mean(xs)**2) - mean(xs**2)) \n",
    "    b = (mean(ys) - (m*(mean(xs))))\n",
    "    return m, b"
   ]
  },
  {
   "cell_type": "code",
   "execution_count": 5,
   "metadata": {},
   "outputs": [],
   "source": [
    "def sqr(ys_orig, ys_line):\n",
    "    return ((ys_line - y_orig)**2)\n",
    "\n",
    "def coeff(ys_orig, ys_line):\n",
    "    y_mean = [mean(ys_orig) for y in ys_orig]\n",
    "    sqr_regr = sqr(ys_orig, ys_line)\n",
    "    sq_y_mean = sqr(ys_orig, y_mean)\n",
    "    return (1-(sqr_regr/sq_y_mean))"
   ]
  },
  {
   "cell_type": "code",
   "execution_count": 6,
   "metadata": {},
   "outputs": [],
   "source": [
    "xs, ys = data_create(60,20,2,corr='pos')"
   ]
  },
  {
   "cell_type": "code",
   "execution_count": 7,
   "metadata": {},
   "outputs": [
    {
     "name": "stdout",
     "output_type": "stream",
     "text": [
      "Slope(M): 2.0980550152820228  Intercept: -3.2092896174863412\n"
     ]
    }
   ],
   "source": [
    "m, b = best_slope_intercept(xs, ys)\n",
    "print(\"Slope(M):\",m,\" Intercept:\",b)\n",
    "line = [(m*x + b) for x in xs]"
   ]
  },
  {
   "cell_type": "code",
   "execution_count": 14,
   "metadata": {},
   "outputs": [
    {
     "data": {
      "image/png": "[encoded data removed]",
      "text/plain": [
       "<Figure size 432x288 with 1 Axes>"
      ]
     },
     "metadata": {
      "needs_background": "light"
     },
     "output_type": "display_data"
    }
   ],
   "source": [
    "plt.scatter(xs,ys,color = 'y')\n",
    "plt.plot(xs, line, color = 'red')\n",
    "plt.show()"
   ]
  },
  {
   "cell_type": "code",
   "execution_count": null,
   "metadata": {},
   "outputs": [],
   "source": []
  }
 ],
 "metadata": {
  "kernelspec": {
   "display_name": "Python 3",
   "language": "python",
   "name": "python3"
  },
  "language_info": {
   "codemirror_mode": {
    "name": "ipython",
    "version": 3
   },
   "file_extension": ".py",
   "mimetype": "text/x-python",
   "name": "python",
   "nbconvert_exporter": "python",
   "pygments_lexer": "ipython3",
   "version": "3.7.4"
  }
 },
 "nbformat": 4,
 "nbformat_minor": 2
}
