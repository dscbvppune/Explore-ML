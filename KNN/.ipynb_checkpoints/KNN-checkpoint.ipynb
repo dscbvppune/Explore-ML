{
 "cells": [
  {
   "cell_type": "markdown",
   "metadata": {},
   "source": [
    "# Wisconsin Breast Cancer Dataset"
   ]
  },
  {
   "cell_type": "markdown",
   "metadata": {},
   "source": [
    "### Dependencies"
   ]
  },
  {
   "cell_type": "code",
   "execution_count": 7,
   "metadata": {},
   "outputs": [],
   "source": [
    "import numpy as np\n",
    "import pandas as pd\n",
    "from sklearn import preprocessing, model_selection, neighbors\n",
    "import random\n",
    "import matplotlib.pyplot as plt\n",
    "import seaborn as sns"
   ]
  },
  {
   "cell_type": "markdown",
   "metadata": {},
   "source": [
    "### Creating the Dataframe (and cleaning)"
   ]
  },
  {
   "cell_type": "code",
   "execution_count": 8,
   "metadata": {},
   "outputs": [
    {
     "name": "stdout",
     "output_type": "stream",
     "text": [
      "        id  clump  UCellSize  UCellShape  Marg_Adh  SECS BareNu  BlandChroma  \\\n",
      "0  1000025      5          1           1         1     2      1            3   \n",
      "1  1002945      5          4           4         5     7     10            3   \n",
      "2  1015425      3          1           1         1     2      2            3   \n",
      "3  1016277      6          8           8         1     3      4            3   \n",
      "4  1017023      4          1           1         3     2      1            3   \n",
      "\n",
      "   NormalNu  Mit  Class  \n",
      "0         1    1      2  \n",
      "1         2    1      2  \n",
      "2         1    1      2  \n",
      "3         7    1      2  \n",
      "4         1    1      2  \n",
      "**************************************************\n",
      "   clump  UCellSize  UCellShape  Marg_Adh  SECS BareNu  BlandChroma  NormalNu  \\\n",
      "0      5          1           1         1     2      1            3         1   \n",
      "1      5          4           4         5     7     10            3         2   \n",
      "2      3          1           1         1     2      2            3         1   \n",
      "3      6          8           8         1     3      4            3         7   \n",
      "4      4          1           1         3     2      1            3         1   \n",
      "\n",
      "   Mit  Class  \n",
      "0    1      2  \n",
      "1    1      2  \n",
      "2    1      2  \n",
      "3    1      2  \n",
      "4    1      2  \n"
     ]
    }
   ],
   "source": [
    "df = pd.read_csv('breast-cancer-wisconsin.data.txt')\n",
    "df.replace('?', -9999, inplace = True)\n",
    "print(df.head())\n",
    "df.drop(['id'],1,inplace = True)\n",
    "print(50*'*')\n",
    "print(df.head())"
   ]
  },
  {
   "cell_type": "markdown",
   "metadata": {},
   "source": [
    "### Training and Testing the data"
   ]
  },
  {
   "cell_type": "code",
   "execution_count": 9,
   "metadata": {},
   "outputs": [],
   "source": [
    "X = np.array(df.drop(['Class'],1))\n",
    "y = np.array(df['Class'])\n",
    "X_train, X_test, y_train, y_test = model_selection.train_test_split(X,y,test_size = 0.2, random_state = 40)"
   ]
  },
  {
   "cell_type": "markdown",
   "metadata": {},
   "source": [
    "### Classifier Creation"
   ]
  },
  {
   "cell_type": "code",
   "execution_count": 10,
   "metadata": {},
   "outputs": [
    {
     "name": "stdout",
     "output_type": "stream",
     "text": [
      "0.9571428571428572\n"
     ]
    }
   ],
   "source": [
    "clf = neighbors.KNeighborsClassifier()\n",
    "clf.fit(X_train,y_train)\n",
    "score = clf.score(X_test, y_test)\n",
    "print(score)"
   ]
  },
  {
   "cell_type": "code",
   "execution_count": null,
   "metadata": {},
   "outputs": [],
   "source": []
  }
 ],
 "metadata": {
  "kernelspec": {
   "display_name": "Python 3",
   "language": "python",
   "name": "python3"
  },
  "language_info": {
   "codemirror_mode": {
    "name": "ipython",
    "version": 3
   },
   "file_extension": ".py",
   "mimetype": "text/x-python",
   "name": "python",
   "nbconvert_exporter": "python",
   "pygments_lexer": "ipython3",
   "version": "3.7.4"
  }
 },
 "nbformat": 4,
 "nbformat_minor": 2
}
